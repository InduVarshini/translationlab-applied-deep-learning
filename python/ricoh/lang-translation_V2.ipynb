{
 "cells": [
  {
   "cell_type": "markdown",
   "metadata": {},
   "source": [
    "## See https://github.com/deeplcom"
   ]
  },
  {
   "cell_type": "code",
   "execution_count": 2,
   "metadata": {},
   "outputs": [
    {
     "name": "stdout",
     "output_type": "stream",
     "text": [
      "Collecting deepl\n",
      "  Downloading deepl-1.18.0-py3-none-any.whl.metadata (27 kB)\n",
      "Requirement already satisfied: requests<3,>=2 in /Users/jportilla/anaconda3/envs/3.11/lib/python3.11/site-packages (from deepl) (2.32.3)\n",
      "Requirement already satisfied: charset-normalizer<4,>=2 in /Users/jportilla/anaconda3/envs/3.11/lib/python3.11/site-packages (from requests<3,>=2->deepl) (3.3.2)\n",
      "Requirement already satisfied: idna<4,>=2.5 in /Users/jportilla/anaconda3/envs/3.11/lib/python3.11/site-packages (from requests<3,>=2->deepl) (2.10)\n",
      "Requirement already satisfied: urllib3<3,>=1.21.1 in /Users/jportilla/anaconda3/envs/3.11/lib/python3.11/site-packages (from requests<3,>=2->deepl) (2.1.0)\n",
      "Requirement already satisfied: certifi>=2017.4.17 in /Users/jportilla/anaconda3/envs/3.11/lib/python3.11/site-packages (from requests<3,>=2->deepl) (2024.2.2)\n",
      "Downloading deepl-1.18.0-py3-none-any.whl (35 kB)\n",
      "Installing collected packages: deepl\n",
      "Successfully installed deepl-1.18.0\n"
     ]
    }
   ],
   "source": [
    "!pip install --upgrade deepl"
   ]
  },
  {
   "cell_type": "code",
   "execution_count": 1,
   "metadata": {},
   "outputs": [
    {
     "name": "stdout",
     "output_type": "stream",
     "text": [
      "¡Hola, mundo!\n"
     ]
    }
   ],
   "source": [
    "import deepl\n",
    "import os\n",
    "from dotenv import load_dotenv\n",
    "\n",
    "# Load environment variables from .env file\n",
    "load_dotenv()\n",
    "\n",
    "# Retrieve DEEPL_AUTH_KEY from environment variables\n",
    "auth_key = os.getenv(\"DEEPL_AUTH_KEY\")\n",
    "\n",
    "translator = deepl.Translator(auth_key)\n",
    "\n",
    "result = translator.translate_text(\"Hello, world!\", target_lang=\"ES\")\n",
    "print(result.text)  # Should print \"¡Hola, mundo!\" in Spanish"
   ]
  },
  {
   "cell_type": "code",
   "execution_count": 2,
   "metadata": {},
   "outputs": [
    {
     "name": "stdout",
     "output_type": "stream",
     "text": [
      "Bonjour à tous !\n",
      "How are you?\n",
      "JA\n",
      "How are you?\n",
      "ES\n",
      "Wie geht es dir?\n",
      "Wie geht es Ihnen?\n"
     ]
    }
   ],
   "source": [
    "# Translate text into a target language, in this case, French:\n",
    "result = translator.translate_text(\"Hello, world!\", target_lang=\"FR\")\n",
    "print(result.text)  # \"Bonjour, le monde !\"\n",
    "\n",
    "# Translate multiple texts into British English\n",
    "result = translator.translate_text(\n",
    "    [\"お元気ですか？\", \"¿Cómo estás?\"], target_lang=\"EN-GB\"\n",
    ")\n",
    "print(result[0].text)  # \"How are you?\"\n",
    "print(result[0].detected_source_lang)  # \"JA\" the language code for Japanese\n",
    "print(result[1].text)  # \"How are you?\"\n",
    "print(result[1].detected_source_lang)  # \"ES\" the language code for Spanish\n",
    "\n",
    "# Translate into German with less and more Formality:\n",
    "print(\n",
    "    translator.translate_text(\n",
    "        \"How are you?\", target_lang=\"DE\", formality=\"less\"\n",
    "    )\n",
    ")  # 'Wie geht es dir?'\n",
    "print(\n",
    "    translator.translate_text(\n",
    "        \"How are you?\", target_lang=\"DE\", formality=\"more\"\n",
    "    )\n",
    ")  # 'Wie geht es Ihnen?'"
   ]
  },
  {
   "cell_type": "code",
   "execution_count": 6,
   "metadata": {},
   "outputs": [],
   "source": [
    "# Translate a formal document from English to German\n",
    "PATH = \"<path to the source files>\"\n",
    "\n",
    "# input_path = PATH + \"VC800000_UserGuide.htm\"\n",
    "# output_path = PATH + \"VC800000_UserGuide_DE.htm\"\n",
    "\n",
    "# #VC80000_Form_Design_Guide.htm\n",
    "# input_path = PATH + \"VC80000_Form_Design_Guide.htm\"\n",
    "# output_path = PATH + \"VC80000_Form_Design_Guide_DE.htm\"\n",
    "\n",
    "\n",
    "#VC80000_Planning_Guide.htm\n",
    "input_path = PATH + \"VC80000_Planning_Guide.htm\"\n",
    "output_path = PATH + \"VC80000_Planning_Guide_DE.htm\"\n",
    "\n",
    "\n",
    "\n",
    "try:\n",
    "    # Using translate_document_from_filepath() with file paths \n",
    "    translator.translate_document_from_filepath(\n",
    "        input_path,\n",
    "        output_path,\n",
    "        target_lang=\"DE\",\n",
    "        formality=\"more\"\n",
    "    )\n",
    "\n",
    "    # Alternatively you can use translate_document() with file IO objects\n",
    "    with open(input_path, \"rb\") as in_file, open(output_path, \"wb\") as out_file:\n",
    "        translator.translate_document(\n",
    "            in_file,\n",
    "            out_file,\n",
    "            target_lang=\"DE\",\n",
    "            formality=\"more\"\n",
    "        )\n",
    "\n",
    "except deepl.DocumentTranslationException as error:\n",
    "    # If an error occurs during document translation after the document was\n",
    "    # already uploaded, a DocumentTranslationException is raised. The\n",
    "    # document_handle property contains the document handle that may be used to\n",
    "    # later retrieve the document from the server, or contact DeepL support.\n",
    "    doc_id = error.document_handle.id\n",
    "    doc_key = error.document_handle.key\n",
    "    print(f\"Error after uploading ${error}, id: ${doc_id} key: ${doc_key}\")\n",
    "except deepl.DeepLException as error:\n",
    "    # Errors during upload raise a DeepLException\n",
    "    print(error)"
   ]
  },
  {
   "cell_type": "code",
   "execution_count": null,
   "metadata": {},
   "outputs": [],
   "source": []
  }
 ],
 "metadata": {
  "kernelspec": {
   "display_name": "3.11",
   "language": "python",
   "name": "python3"
  },
  "language_info": {
   "codemirror_mode": {
    "name": "ipython",
    "version": 3
   },
   "file_extension": ".py",
   "mimetype": "text/x-python",
   "name": "python",
   "nbconvert_exporter": "python",
   "pygments_lexer": "ipython3",
   "version": "3.11.8"
  }
 },
 "nbformat": 4,
 "nbformat_minor": 2
}
